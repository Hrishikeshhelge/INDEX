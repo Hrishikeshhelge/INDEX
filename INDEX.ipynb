{
  "nbformat": 4,
  "nbformat_minor": 0,
  "metadata": {
    "colab": {
      "name": "INDEX.ipynb",
      "provenance": [],
      "collapsed_sections": []
    },
    "kernelspec": {
      "name": "python3",
      "display_name": "Python 3"
    },
    "language_info": {
      "name": "python"
    }
  },
  "cells": [
    {
      "cell_type": "markdown",
      "metadata": {
        "id": "o2gb7t6bE-dG"
      },
      "source": [
        "#### MACHINE LEARNING PROJECTS\n",
        "|NAME OF PROJECT | TECHNOLOGY USED | LINK TO THE PROJECT |\n",
        "|:-------------------|:---------------:|:--------------------:|\n",
        "|REAL ESTATE PRICE PREDICTION |  Linear Regression, Grid Search CV | [Repository](https://cutt.ly/eneivMm \"Click here\"), [Web app](https://cutt.ly/eneivMm \"Click here\")|\n",
        "|SHARK CLASSIFIER |  Haar cascade, Wavelet transform, SVM, Grid Search CV  | [Repository](https://cutt.ly/sneadPJ \"Click here\"), [Web app](https://cutt.ly/eneivMm \"Click here\")|\n",
        "|DIABETES PREDICTION |  Random Forest, Grid Search CV  | [Repository](https://cutt.ly/cneaY6R \"Click here\"), [Web app](https://cutt.ly/eneivMm \"Click here\")|\n",
        "|RESALE CAR PRICE PREDICTION |  Random Forest, Randomized Search CV  | [Repository](https://cutt.ly/Unea3zW \"Click here\"), [Web app](https://cutt.ly/eneivMm \"Click here\")|\n",
        "|AIRLINE FARE PREDICTION |  Random Forest, Randomized Search CV | [Repository](https://cutt.ly/7nefDV6 \"Click here\"), [Web app](https://cutt.ly/eneivMm \"Click here\")|\n",
        "|ML MODEL DEPLOYMENT |  Flask, Heroku | [Repository](https://cutt.ly/snehlRs \"Click here\"), [Web app](https://cutt.ly/eneivMm \"Click here\")|\n",
        "|MOVIE RECOMMENDATION SYSTEM |  Data preprocessing, Multinomial naive bayes   | [Repository](https://cutt.ly/NnegnUx \"Click here\")|\n",
        "|CREDIT CARD FRAUD DETECTION |  Isolation Forest, Local Outlier Factor  | [Repository](https://cutt.ly/2nefcgL \"Click here\")|\n",
        "|ONLINE SHOPPING INTENTION ANALYSIS |  k means clustering  | [Repository](https://cutt.ly/WnegSNt \"Click here\")|\n",
        "|YOUTUBE TRENDING VIDEOS ANALYSIS |  EDA, Correlation heatmap ,Word Cloud  | [Repository](https://cutt.ly/WnegSNt \"Click here\")|\n",
        "|AI CAR/PEDESTRIAN TRACKING |  Haar cascade   | [Repository](https://cutt.ly/WnegSNt \"Click here\")|\n",
        "|FACE/SMILE DETECTION |  Haar cascade   | [Repository](https://github.com/Hrishikeshhelge/FACE-DETECTION- \"Click here\")|"
      ]
    },
    {
      "cell_type": "markdown",
      "metadata": {
        "id": "FINjk3ShAoN1"
      },
      "source": [
        "#### DEEP LEARNING PROJECTS\n",
        "|NAME OF PROJECT | TECHNOLOGY USED | LINK TO THE PROJECT |\n",
        "|:-------------------|:---------------:|:--------------------:|\n",
        "|AGRICULTURE|  Deep Learning, Computer Vision | [Repository](https://cutt.ly/eneivMm \"Click here\"), [Web app](https://cutt.ly/eneivMm \"Click here\")|\n",
        "|DOG/CAT CLASSIFICATION |  Deep Learning, Computer Vision | [Repository](https://cutt.ly/eneivMm \"Click here\"), [Web app](https://cutt.ly/eneivMm \"Click here\")|\n",
        "|SPAM SMS DETECTOR |  Natural Language Processing | [Repository](https://cutt.ly/eneivMm \"Click here\"), [Web app](https://cutt.ly/eneivMm \"Click here\")|\n",
        "|CLOTHING ACCESSORIES CLASSIFIER |  Artificial neural network | [Repository](https://cutt.ly/MneEsB0 \"Click here\")|\n",
        "|MALARIA DETECTION |  Convolutional Neural Network | [Repository](https://cutt.ly/MneEsB0 \"Click here\")|\n",
        "|HANDWRITTEN DIGIT CLASSIFICATION |  SIMPLE NEURAL NETWORK | [Repository](https://cutt.ly/fneRHBS \"Click here\")|\n",
        "|CUSTOMER CHURN PREDICTION |  Artificial neural network | [Repository](https://cutt.ly/aneR2A3 \"Click here\")|"
      ]
    },
    {
      "cell_type": "markdown",
      "metadata": {
        "id": "BKAGpWyFE3_b"
      },
      "source": [
        "### EXERCISES\n",
        "\n",
        "* [PANDAS](https://cutt.ly/nneTCwc \"Click here\")\n",
        "* [MATPLOTLIB](https://cutt.ly/AneYqxz- \"Click here\")\n",
        "* [FEATURE ENGINEERING](https://cutt.ly/nneTCwc \"Click here\")\n",
        "* [MACHINE LEARNING](https://cutt.ly/aneYtax \"Click here\")\n",
        "* [DEEP LEARNING](https://cutt.ly/9neYsVK \"Click here\")"
      ]
    }
  ]
}